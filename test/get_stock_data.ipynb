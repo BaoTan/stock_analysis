{
 "cells": [
  {
   "cell_type": "code",
   "execution_count": null,
   "metadata": {},
   "outputs": [],
   "source": [
    "import os\n",
    "import time\n",
    "import warnings\n",
    "from datetime import timedelta, datetime\n",
    "import akshare as ak\n",
    "import pandas as pd\n",
    "import numpy as np"
   ]
  },
  {
   "cell_type": "code",
   "execution_count": null,
   "metadata": {},
   "outputs": [],
   "source": [
    "# ##############################################打印版本号\n",
    "print(f'pandas version: {pd.__version__}')\n",
    "print(f'akshare version: {ak.__version__}')"
   ]
  },
  {
   "cell_type": "code",
   "execution_count": null,
   "metadata": {},
   "outputs": [],
   "source": [
    "# ##############################################获取期货展期收益率\n",
    "get_roll_yield_bar_df = ak.get_roll_yield_bar(type_method=\"date\",\n",
    "                                              var=\"RB\",\n",
    "                                              start_day=\"20180618\",\n",
    "                                              end_day=\"20180718\")\n",
    "print(get_roll_yield_bar_df)"
   ]
  },
  {
   "cell_type": "code",
   "execution_count": null,
   "metadata": {},
   "outputs": [],
   "source": [
    "# ##############################################获取基金仓位\n",
    "# 易方达蓝筹精选，005827；前海开源公共事业股票，005669\n",
    "years = ['2019', '2020', '2021']\n",
    "data = pd.DataFrame()\n",
    "for yr in years:\n",
    "    df_tmp = ak.fund_portfolio_hold_em(symbol=\"005827\", date=yr)\n",
    "    data = data.append(df_tmp)\n",
    "\n",
    "data['季度'] = data['季度'].apply(lambda x: x[:6])\n",
    "data['季度'] = data['季度'].str.replace('年', 'Q')\n",
    "data['占净值比例'] = pd.to_numeric(data['占净值比例'])\n",
    "print(data)"
   ]
  },
  {
   "cell_type": "code",
   "execution_count": null,
   "metadata": {},
   "outputs": [],
   "source": [
    "# ##############################################获取沪深京A股分钟级历史股票数据\n",
    "warnings.filterwarnings(\"ignore\")\n",
    "# 输出显示设置\n",
    "pd.set_option('display.max_rows', None)\n",
    "pd.set_option('display.max_columns', None)\n",
    "pd.set_option('display.expand_frame_repr', False)\n",
    "pd.set_option('display.unicode.ambiguous_as_wide', True)\n",
    "pd.set_option('display.unicode.east_asian_width', True)\n",
    "\n",
    "# 输入参数\n",
    "start_date = '20220101'\n",
    "end_date = '20220810'\n",
    "adj = \"hfq\"  # 复权类型：None未复权 qfq前复权 hfq后复权\n",
    "period = \"daily\"  # 周期可选：1, 5, 15, 30, 60 分钟的数据频率。\"daily\", \"weekly\", \"monthly\"\n",
    "\n",
    "# 创建文件存储路径\n",
    "def create_path():\n",
    "    global path\n",
    "    date_str = str(pd.to_datetime(start_date).date())  # 日期转换成字符串\n",
    "    path = os.path.join(\".\", \"all_stock_candle\", \"stock\", date_str)\n",
    "    # 保存数据\n",
    "    if not os.path.exists(path):\n",
    "        # os.mkdir(path)  # 可以建一级文件夹\n",
    "        os.makedirs(path)  # 可以建多级文件夹\n",
    "    file_name = ak_code + \".csv\"\n",
    "    return os.path.join(path, file_name)"
   ]
  },
  {
   "cell_type": "code",
   "execution_count": null,
   "metadata": {},
   "outputs": [],
   "source": [
    "# 利用东财实时行情数据接口获取所有股票代码接口\n",
    "df = ak.stock_zh_a_spot_em()\n",
    "# code_list = df[['序号', '代码', '名称']].values\n",
    "code_list = df[['代码', '名称']].values\n",
    "print(code_list)"
   ]
  },
  {
   "cell_type": "code",
   "execution_count": null,
   "metadata": {},
   "outputs": [],
   "source": [
    "for i in range(len(code_list)):\n",
    "    i+=2\n",
    "    ak_code = code_list[i][0]\n",
    "    ak_name = code_list[i][1]\n",
    "    try:\n",
    "        # 利用东财历史行情数据接口获取股票数据\n",
    "        df = ak.stock_zh_a_hist(symbol=ak_code, period=period, start_date=start_date, end_date=end_date, adjust=adj)\n",
    "    except Exception as e:\n",
    "        print(e)\n",
    "\n",
    "    df['股票代码'] = ak_code\n",
    "    df['股票名称'] = ak_name\n",
    "    df.rename(columns={'日期': '交易日期', '开盘': '开盘价', '最高': '最高价', '最低': '最低价', '收盘': '收盘价', '成交量': '成交量'}, inplace=True)\n",
    "    df = df[['交易日期', '股票代码', '股票名称', '开盘价', '收盘价', '最高价', '最低价', '成交量', '成交额', '涨跌幅', '换手率']]\n",
    "\n",
    "    # 在股票代码前加上交易所简称\n",
    "    df['股票代码'] = df['股票代码'].astype(str)\n",
    "    df.loc[df['股票代码'].str.startswith('6'), '股票代码'] = \"sh\" + df['股票代码']\n",
    "    df.loc[df['股票代码'].str.startswith('4') | df['股票代码'].str.startswith('8'), '股票代码'] = \"bj\" + df['股票代码']\n",
    "    df.loc[df['股票代码'].str.startswith('3') | df['股票代码'].str.startswith('0'), '股票代码'] = \"sz\" + df['股票代码']\n",
    "\n",
    "    # 排序去重\n",
    "    df.sort_values(by=['交易日期'], ascending=True, inplace=True)\n",
    "    df.drop_duplicates(subset=['股票代码', '交易日期'], keep='first', inplace=True)\n",
    "    df.reset_index(drop=True, inplace=True)\n",
    "\n",
    "    # 存储文件\n",
    "    path = create_path()\n",
    "    df.to_csv(path, index=False, mode='w', encoding='utf-8')\n",
    "    time.sleep(2)\n",
    "\n",
    "    print(f\"已下载到{i+1}支股票，股票代码为:{ak_code}，股票名称为:{ak_name}\")\n"
   ]
  }
 ],
 "metadata": {
  "kernelspec": {
   "display_name": "Python 3.9.12 ('base')",
   "language": "python",
   "name": "python3"
  },
  "language_info": {
   "codemirror_mode": {
    "name": "ipython",
    "version": 3
   },
   "file_extension": ".py",
   "mimetype": "text/x-python",
   "name": "python",
   "nbconvert_exporter": "python",
   "pygments_lexer": "ipython3",
   "version": "3.9.12"
  },
  "orig_nbformat": 4,
  "vscode": {
   "interpreter": {
    "hash": "25a52b408605e18321d502117c29de6394824942cdb1f7b8804f2a2e3ebaf13e"
   }
  }
 },
 "nbformat": 4,
 "nbformat_minor": 2
}
