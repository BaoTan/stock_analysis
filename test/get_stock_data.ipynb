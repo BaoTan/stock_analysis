{
 "cells": [
  {
   "cell_type": "code",
   "execution_count": 1,
   "metadata": {},
   "outputs": [],
   "source": [
    "import os\n",
    "import time\n",
    "import warnings\n",
    "from datetime import timedelta, datetime\n",
    "import akshare as ak\n",
    "import pandas as pd\n",
    "import numpy as np"
   ]
  },
  {
   "cell_type": "code",
   "execution_count": 2,
   "metadata": {},
   "outputs": [
    {
     "name": "stdout",
     "output_type": "stream",
     "text": [
      "pandas version: 1.4.2\n",
      "akshare version: 1.10.72\n"
     ]
    }
   ],
   "source": [
    "# ##############################################打印版本号\n",
    "print(f'pandas version: {pd.__version__}')\n",
    "print(f'akshare version: {ak.__version__}')"
   ]
  },
  {
   "cell_type": "code",
   "execution_count": 3,
   "metadata": {},
   "outputs": [
    {
     "name": "stderr",
     "output_type": "stream",
     "text": [
      "/home/tb/work_env/deepLearnEnv/anaconda_insaddr/lib/python3.9/site-packages/akshare/futures/futures_roll_yield.py:38: UserWarning: 20180618非交易日\n",
      "  warnings.warn(\"%s非交易日\" % date.strftime(\"%Y%m%d\"))\n",
      "/home/tb/work_env/deepLearnEnv/anaconda_insaddr/lib/python3.9/site-packages/akshare/futures/futures_roll_yield.py:38: UserWarning: 20180623非交易日\n",
      "  warnings.warn(\"%s非交易日\" % date.strftime(\"%Y%m%d\"))\n",
      "/home/tb/work_env/deepLearnEnv/anaconda_insaddr/lib/python3.9/site-packages/akshare/futures/futures_roll_yield.py:38: UserWarning: 20180624非交易日\n",
      "  warnings.warn(\"%s非交易日\" % date.strftime(\"%Y%m%d\"))\n",
      "/home/tb/work_env/deepLearnEnv/anaconda_insaddr/lib/python3.9/site-packages/akshare/futures/futures_roll_yield.py:38: UserWarning: 20180630非交易日\n",
      "  warnings.warn(\"%s非交易日\" % date.strftime(\"%Y%m%d\"))\n",
      "/home/tb/work_env/deepLearnEnv/anaconda_insaddr/lib/python3.9/site-packages/akshare/futures/futures_roll_yield.py:38: UserWarning: 20180701非交易日\n",
      "  warnings.warn(\"%s非交易日\" % date.strftime(\"%Y%m%d\"))\n",
      "/home/tb/work_env/deepLearnEnv/anaconda_insaddr/lib/python3.9/site-packages/akshare/futures/futures_roll_yield.py:38: UserWarning: 20180707非交易日\n",
      "  warnings.warn(\"%s非交易日\" % date.strftime(\"%Y%m%d\"))\n",
      "/home/tb/work_env/deepLearnEnv/anaconda_insaddr/lib/python3.9/site-packages/akshare/futures/futures_roll_yield.py:38: UserWarning: 20180708非交易日\n",
      "  warnings.warn(\"%s非交易日\" % date.strftime(\"%Y%m%d\"))\n",
      "/home/tb/work_env/deepLearnEnv/anaconda_insaddr/lib/python3.9/site-packages/akshare/futures/futures_roll_yield.py:38: UserWarning: 20180714非交易日\n",
      "  warnings.warn(\"%s非交易日\" % date.strftime(\"%Y%m%d\"))\n",
      "/home/tb/work_env/deepLearnEnv/anaconda_insaddr/lib/python3.9/site-packages/akshare/futures/futures_roll_yield.py:38: UserWarning: 20180715非交易日\n",
      "  warnings.warn(\"%s非交易日\" % date.strftime(\"%Y%m%d\"))\n"
     ]
    },
    {
     "name": "stdout",
     "output_type": "stream",
     "text": [
      "            roll_yield near_by deferred\n",
      "2018-06-19    0.191289  RB1810   RB1901\n",
      "2018-06-20    0.192123  RB1810   RB1901\n",
      "2018-06-21    0.183304  RB1810   RB1901\n",
      "2018-06-22    0.190642  RB1810   RB1901\n",
      "2018-06-25    0.194838  RB1810   RB1901\n",
      "2018-06-26    0.204314  RB1810   RB1901\n",
      "2018-06-27    0.213667  RB1810   RB1901\n",
      "2018-06-28    0.211701  RB1810   RB1901\n",
      "2018-06-29    0.205892  RB1810   RB1901\n",
      "2018-07-02    0.224809  RB1810   RB1901\n",
      "2018-07-03    0.229198  RB1810   RB1901\n",
      "2018-07-04    0.222853  RB1810   RB1901\n",
      "2018-07-05    0.247187  RB1810   RB1901\n",
      "2018-07-06    0.261259  RB1810   RB1901\n",
      "2018-07-09    0.253283  RB1810   RB1901\n",
      "2018-07-10    0.225832  RB1810   RB1901\n",
      "2018-07-11    0.210659  RB1810   RB1901\n",
      "2018-07-12    0.212805  RB1810   RB1901\n",
      "2018-07-13    0.170282  RB1810   RB1901\n",
      "2018-07-16    0.218066  RB1810   RB1901\n",
      "2018-07-17    0.229768  RB1810   RB1901\n",
      "2018-07-18    0.225529  RB1810   RB1901\n"
     ]
    }
   ],
   "source": [
    "# ##############################################获取期货展期收益率\n",
    "get_roll_yield_bar_df = ak.get_roll_yield_bar(type_method=\"date\",\n",
    "                                              var=\"RB\",\n",
    "                                              start_day=\"20180618\",\n",
    "                                              end_day=\"20180718\")\n",
    "print(get_roll_yield_bar_df)"
   ]
  },
  {
   "cell_type": "code",
   "execution_count": 4,
   "metadata": {},
   "outputs": [
    {
     "name": "stderr",
     "output_type": "stream",
     "text": [
      "/tmp/ipykernel_7286/3004060814.py:7: FutureWarning: The frame.append method is deprecated and will be removed from pandas in a future version. Use pandas.concat instead.\n",
      "  data = data.append(df_tmp)\n",
      "/tmp/ipykernel_7286/3004060814.py:7: FutureWarning: The frame.append method is deprecated and will be removed from pandas in a future version. Use pandas.concat instead.\n",
      "  data = data.append(df_tmp)\n"
     ]
    },
    {
     "name": "stdout",
     "output_type": "stream",
     "text": [
      "      序号    股票代码    股票名称  占净值比例       持股数       持仓市值      季度\n",
      "0      1   00700    腾讯控股  10.05    251.50   84618.42  2019Q4\n",
      "1      2  000568    泸州老窖   9.96    968.00   83906.24  2019Q4\n",
      "2      3   01177  中国生物制药   9.79   8448.10   82487.27  2019Q4\n",
      "3      4  000858     五粮液   9.77    619.01   82333.96  2019Q4\n",
      "4      5  600519    贵州茅台   9.73     69.26   81938.84  2019Q4\n",
      "..   ...     ...     ...    ...       ...        ...     ...\n",
      "200  201  002007    华兰生物   2.80   6200.01  246450.43  2021Q1\n",
      "201  202  002044    美年健康   1.87  10660.01  164377.28  2021Q1\n",
      "202  203  600872    中炬高新   1.71   3100.01  150133.56  2021Q1\n",
      "203  204  300015    爱尔眼科   1.35   2000.00  118500.23  2021Q1\n",
      "204  205  600161    天坛生物   0.59   1600.01   52256.47  2021Q1\n",
      "\n",
      "[439 rows x 7 columns]\n"
     ]
    },
    {
     "name": "stderr",
     "output_type": "stream",
     "text": [
      "/tmp/ipykernel_7286/3004060814.py:7: FutureWarning: The frame.append method is deprecated and will be removed from pandas in a future version. Use pandas.concat instead.\n",
      "  data = data.append(df_tmp)\n"
     ]
    }
   ],
   "source": [
    "# ##############################################获取基金仓位\n",
    "# 易方达蓝筹精选，005827；前海开源公共事业股票，005669\n",
    "years = ['2019', '2020', '2021']\n",
    "data = pd.DataFrame()\n",
    "for yr in years:\n",
    "    df_tmp = ak.fund_portfolio_hold_em(symbol=\"005827\", date=yr)\n",
    "    data = data.append(df_tmp)\n",
    "\n",
    "data['季度'] = data['季度'].apply(lambda x: x[:6])\n",
    "data['季度'] = data['季度'].str.replace('年', 'Q')\n",
    "data['占净值比例'] = pd.to_numeric(data['占净值比例'])\n",
    "print(data)"
   ]
  },
  {
   "cell_type": "code",
   "execution_count": 6,
   "metadata": {},
   "outputs": [],
   "source": [
    "# ##############################################获取沪深京A股分钟级历史股票数据\n",
    "warnings.filterwarnings(\"ignore\")\n",
    "# 输出显示设置\n",
    "pd.set_option('display.max_rows', None)\n",
    "pd.set_option('display.max_columns', None)\n",
    "pd.set_option('display.expand_frame_repr', False)\n",
    "pd.set_option('display.unicode.ambiguous_as_wide', True)\n",
    "pd.set_option('display.unicode.east_asian_width', True)\n",
    "\n",
    "# 输入参数\n",
    "start_date = '20220101'\n",
    "end_date = '20220810'\n",
    "adj = \"hfq\"  # 复权类型：None未复权 qfq前复权 hfq后复权\n",
    "period = \"daily\"  # 周期可选：1, 5, 15, 30, 60 分钟的数据频率。\"daily\", \"weekly\", \"monthly\"\n",
    "\n",
    "# 创建文件存储路径\n",
    "def create_path():\n",
    "    global path\n",
    "    date_str = str(pd.to_datetime(start_date).date())  # 日期转换成字符串\n",
    "    path = os.path.join(\".\", \"all_stock_candle\", \"stock\", date_str)\n",
    "    # 保存数据\n",
    "    if not os.path.exists(path):\n",
    "        # os.mkdir(path)  # 可以建一级文件夹\n",
    "        os.makedirs(path)  # 可以建多级文件夹\n",
    "    file_name = ak_code + \".csv\"\n",
    "    return os.path.join(path, file_name)"
   ]
  },
  {
   "cell_type": "code",
   "execution_count": 7,
   "metadata": {},
   "outputs": [
    {
     "name": "stdout",
     "output_type": "stream",
     "text": [
      "[['301518' 'N长华']\n",
      " ['301509' 'N金凯']\n",
      " ['300892' '品渥食品']\n",
      " ...\n",
      " ['603132' '金徽股份']\n",
      " ['600531' '豫光金铅']\n",
      " ['603119' 'C浙荣']]\n"
     ]
    }
   ],
   "source": [
    "# 利用东财实时行情数据接口获取所有股票代码接口\n",
    "df = ak.stock_zh_a_spot_em()\n",
    "# code_list = df[['序号', '代码', '名称']].values\n",
    "code_list = df[['代码', '名称']].values\n",
    "print(code_list)"
   ]
  },
  {
   "cell_type": "code",
   "execution_count": 8,
   "metadata": {},
   "outputs": [
    {
     "name": "stdout",
     "output_type": "stream",
     "text": [
      "已下载到3支股票，股票代码为:300892，股票名称为:品渥食品\n",
      "已下载到4支股票，股票代码为:300169，股票名称为:天晟新材\n",
      "已下载到5支股票，股票代码为:300149，股票名称为:睿智医药\n"
     ]
    },
    {
     "ename": "KeyError",
     "evalue": "\"['交易日期', '开盘价', '收盘价', '最高价', '最低价', '成交量', '成交额', '涨跌幅', '换手率'] not in index\"",
     "output_type": "error",
     "traceback": [
      "\u001b[0;31m---------------------------------------------------------------------------\u001b[0m",
      "\u001b[0;31mKeyError\u001b[0m                                  Traceback (most recent call last)",
      "\u001b[1;32m/home/tb/work_pjt/tb_stock_analysis/test/get_stock_data.ipynb Cell 7\u001b[0m in \u001b[0;36m<cell line: 1>\u001b[0;34m()\u001b[0m\n\u001b[1;32m     <a href='vscode-notebook-cell:/home/tb/work_pjt/tb_stock_analysis/test/get_stock_data.ipynb#W6sZmlsZQ%3D%3D?line=11'>12</a>\u001b[0m df[\u001b[39m'\u001b[39m\u001b[39m股票名称\u001b[39m\u001b[39m'\u001b[39m] \u001b[39m=\u001b[39m ak_name\n\u001b[1;32m     <a href='vscode-notebook-cell:/home/tb/work_pjt/tb_stock_analysis/test/get_stock_data.ipynb#W6sZmlsZQ%3D%3D?line=12'>13</a>\u001b[0m df\u001b[39m.\u001b[39mrename(columns\u001b[39m=\u001b[39m{\u001b[39m'\u001b[39m\u001b[39m日期\u001b[39m\u001b[39m'\u001b[39m: \u001b[39m'\u001b[39m\u001b[39m交易日期\u001b[39m\u001b[39m'\u001b[39m, \u001b[39m'\u001b[39m\u001b[39m开盘\u001b[39m\u001b[39m'\u001b[39m: \u001b[39m'\u001b[39m\u001b[39m开盘价\u001b[39m\u001b[39m'\u001b[39m, \u001b[39m'\u001b[39m\u001b[39m最高\u001b[39m\u001b[39m'\u001b[39m: \u001b[39m'\u001b[39m\u001b[39m最高价\u001b[39m\u001b[39m'\u001b[39m, \u001b[39m'\u001b[39m\u001b[39m最低\u001b[39m\u001b[39m'\u001b[39m: \u001b[39m'\u001b[39m\u001b[39m最低价\u001b[39m\u001b[39m'\u001b[39m, \u001b[39m'\u001b[39m\u001b[39m收盘\u001b[39m\u001b[39m'\u001b[39m: \u001b[39m'\u001b[39m\u001b[39m收盘价\u001b[39m\u001b[39m'\u001b[39m, \u001b[39m'\u001b[39m\u001b[39m成交量\u001b[39m\u001b[39m'\u001b[39m: \u001b[39m'\u001b[39m\u001b[39m成交量\u001b[39m\u001b[39m'\u001b[39m}, inplace\u001b[39m=\u001b[39m\u001b[39mTrue\u001b[39;00m)\n\u001b[0;32m---> <a href='vscode-notebook-cell:/home/tb/work_pjt/tb_stock_analysis/test/get_stock_data.ipynb#W6sZmlsZQ%3D%3D?line=13'>14</a>\u001b[0m df \u001b[39m=\u001b[39m df[[\u001b[39m'\u001b[39;49m\u001b[39m交易日期\u001b[39;49m\u001b[39m'\u001b[39;49m, \u001b[39m'\u001b[39;49m\u001b[39m股票代码\u001b[39;49m\u001b[39m'\u001b[39;49m, \u001b[39m'\u001b[39;49m\u001b[39m股票名称\u001b[39;49m\u001b[39m'\u001b[39;49m, \u001b[39m'\u001b[39;49m\u001b[39m开盘价\u001b[39;49m\u001b[39m'\u001b[39;49m, \u001b[39m'\u001b[39;49m\u001b[39m收盘价\u001b[39;49m\u001b[39m'\u001b[39;49m, \u001b[39m'\u001b[39;49m\u001b[39m最高价\u001b[39;49m\u001b[39m'\u001b[39;49m, \u001b[39m'\u001b[39;49m\u001b[39m最低价\u001b[39;49m\u001b[39m'\u001b[39;49m, \u001b[39m'\u001b[39;49m\u001b[39m成交量\u001b[39;49m\u001b[39m'\u001b[39;49m, \u001b[39m'\u001b[39;49m\u001b[39m成交额\u001b[39;49m\u001b[39m'\u001b[39;49m, \u001b[39m'\u001b[39;49m\u001b[39m涨跌幅\u001b[39;49m\u001b[39m'\u001b[39;49m, \u001b[39m'\u001b[39;49m\u001b[39m换手率\u001b[39;49m\u001b[39m'\u001b[39;49m]]\n\u001b[1;32m     <a href='vscode-notebook-cell:/home/tb/work_pjt/tb_stock_analysis/test/get_stock_data.ipynb#W6sZmlsZQ%3D%3D?line=15'>16</a>\u001b[0m \u001b[39m# 在股票代码前加上交易所简称\u001b[39;00m\n\u001b[1;32m     <a href='vscode-notebook-cell:/home/tb/work_pjt/tb_stock_analysis/test/get_stock_data.ipynb#W6sZmlsZQ%3D%3D?line=16'>17</a>\u001b[0m df[\u001b[39m'\u001b[39m\u001b[39m股票代码\u001b[39m\u001b[39m'\u001b[39m] \u001b[39m=\u001b[39m df[\u001b[39m'\u001b[39m\u001b[39m股票代码\u001b[39m\u001b[39m'\u001b[39m]\u001b[39m.\u001b[39mastype(\u001b[39mstr\u001b[39m)\n",
      "File \u001b[0;32m~/work_env/deepLearnEnv/anaconda_insaddr/lib/python3.9/site-packages/pandas/core/frame.py:3511\u001b[0m, in \u001b[0;36mDataFrame.__getitem__\u001b[0;34m(self, key)\u001b[0m\n\u001b[1;32m   3509\u001b[0m     \u001b[39mif\u001b[39;00m is_iterator(key):\n\u001b[1;32m   3510\u001b[0m         key \u001b[39m=\u001b[39m \u001b[39mlist\u001b[39m(key)\n\u001b[0;32m-> 3511\u001b[0m     indexer \u001b[39m=\u001b[39m \u001b[39mself\u001b[39;49m\u001b[39m.\u001b[39;49mcolumns\u001b[39m.\u001b[39;49m_get_indexer_strict(key, \u001b[39m\"\u001b[39;49m\u001b[39mcolumns\u001b[39;49m\u001b[39m\"\u001b[39;49m)[\u001b[39m1\u001b[39m]\n\u001b[1;32m   3513\u001b[0m \u001b[39m# take() does not accept boolean indexers\u001b[39;00m\n\u001b[1;32m   3514\u001b[0m \u001b[39mif\u001b[39;00m \u001b[39mgetattr\u001b[39m(indexer, \u001b[39m\"\u001b[39m\u001b[39mdtype\u001b[39m\u001b[39m\"\u001b[39m, \u001b[39mNone\u001b[39;00m) \u001b[39m==\u001b[39m \u001b[39mbool\u001b[39m:\n",
      "File \u001b[0;32m~/work_env/deepLearnEnv/anaconda_insaddr/lib/python3.9/site-packages/pandas/core/indexes/base.py:5782\u001b[0m, in \u001b[0;36mIndex._get_indexer_strict\u001b[0;34m(self, key, axis_name)\u001b[0m\n\u001b[1;32m   5779\u001b[0m \u001b[39melse\u001b[39;00m:\n\u001b[1;32m   5780\u001b[0m     keyarr, indexer, new_indexer \u001b[39m=\u001b[39m \u001b[39mself\u001b[39m\u001b[39m.\u001b[39m_reindex_non_unique(keyarr)\n\u001b[0;32m-> 5782\u001b[0m \u001b[39mself\u001b[39;49m\u001b[39m.\u001b[39;49m_raise_if_missing(keyarr, indexer, axis_name)\n\u001b[1;32m   5784\u001b[0m keyarr \u001b[39m=\u001b[39m \u001b[39mself\u001b[39m\u001b[39m.\u001b[39mtake(indexer)\n\u001b[1;32m   5785\u001b[0m \u001b[39mif\u001b[39;00m \u001b[39misinstance\u001b[39m(key, Index):\n\u001b[1;32m   5786\u001b[0m     \u001b[39m# GH 42790 - Preserve name from an Index\u001b[39;00m\n",
      "File \u001b[0;32m~/work_env/deepLearnEnv/anaconda_insaddr/lib/python3.9/site-packages/pandas/core/indexes/base.py:5845\u001b[0m, in \u001b[0;36mIndex._raise_if_missing\u001b[0;34m(self, key, indexer, axis_name)\u001b[0m\n\u001b[1;32m   5842\u001b[0m     \u001b[39mraise\u001b[39;00m \u001b[39mKeyError\u001b[39;00m(\u001b[39mf\u001b[39m\u001b[39m\"\u001b[39m\u001b[39mNone of [\u001b[39m\u001b[39m{\u001b[39;00mkey\u001b[39m}\u001b[39;00m\u001b[39m] are in the [\u001b[39m\u001b[39m{\u001b[39;00maxis_name\u001b[39m}\u001b[39;00m\u001b[39m]\u001b[39m\u001b[39m\"\u001b[39m)\n\u001b[1;32m   5844\u001b[0m not_found \u001b[39m=\u001b[39m \u001b[39mlist\u001b[39m(ensure_index(key)[missing_mask\u001b[39m.\u001b[39mnonzero()[\u001b[39m0\u001b[39m]]\u001b[39m.\u001b[39munique())\n\u001b[0;32m-> 5845\u001b[0m \u001b[39mraise\u001b[39;00m \u001b[39mKeyError\u001b[39;00m(\u001b[39mf\u001b[39m\u001b[39m\"\u001b[39m\u001b[39m{\u001b[39;00mnot_found\u001b[39m}\u001b[39;00m\u001b[39m not in index\u001b[39m\u001b[39m\"\u001b[39m)\n",
      "\u001b[0;31mKeyError\u001b[0m: \"['交易日期', '开盘价', '收盘价', '最高价', '最低价', '成交量', '成交额', '涨跌幅', '换手率'] not in index\""
     ]
    }
   ],
   "source": [
    "for i in range(len(code_list)):\n",
    "    i+=2\n",
    "    ak_code = code_list[i][0]\n",
    "    ak_name = code_list[i][1]\n",
    "    try:\n",
    "        # 利用东财历史行情数据接口获取股票数据\n",
    "        df = ak.stock_zh_a_hist(symbol=ak_code, period=period, start_date=start_date, end_date=end_date, adjust=adj)\n",
    "    except Exception as e:\n",
    "        print(e)\n",
    "\n",
    "    df['股票代码'] = ak_code\n",
    "    df['股票名称'] = ak_name\n",
    "    df.rename(columns={'日期': '交易日期', '开盘': '开盘价', '最高': '最高价', '最低': '最低价', '收盘': '收盘价', '成交量': '成交量'}, inplace=True)\n",
    "    df = df[['交易日期', '股票代码', '股票名称', '开盘价', '收盘价', '最高价', '最低价', '成交量', '成交额', '涨跌幅', '换手率']]\n",
    "\n",
    "    # 在股票代码前加上交易所简称\n",
    "    df['股票代码'] = df['股票代码'].astype(str)\n",
    "    df.loc[df['股票代码'].str.startswith('6'), '股票代码'] = \"sh\" + df['股票代码']\n",
    "    df.loc[df['股票代码'].str.startswith('4') | df['股票代码'].str.startswith('8'), '股票代码'] = \"bj\" + df['股票代码']\n",
    "    df.loc[df['股票代码'].str.startswith('3') | df['股票代码'].str.startswith('0'), '股票代码'] = \"sz\" + df['股票代码']\n",
    "\n",
    "    # 排序去重\n",
    "    df.sort_values(by=['交易日期'], ascending=True, inplace=True)\n",
    "    df.drop_duplicates(subset=['股票代码', '交易日期'], keep='first', inplace=True)\n",
    "    df.reset_index(drop=True, inplace=True)\n",
    "\n",
    "    # 存储文件\n",
    "    path = create_path()\n",
    "    df.to_csv(path, index=False, mode='w', encoding='utf-8')\n",
    "    time.sleep(2)\n",
    "\n",
    "    print(f\"已下载到{i+1}支股票，股票代码为:{ak_code}，股票名称为:{ak_name}\")\n"
   ]
  }
 ],
 "metadata": {
  "kernelspec": {
   "display_name": "Python 3.9.12 ('base')",
   "language": "python",
   "name": "python3"
  },
  "language_info": {
   "codemirror_mode": {
    "name": "ipython",
    "version": 3
   },
   "file_extension": ".py",
   "mimetype": "text/x-python",
   "name": "python",
   "nbconvert_exporter": "python",
   "pygments_lexer": "ipython3",
   "version": "3.9.12"
  },
  "orig_nbformat": 4,
  "vscode": {
   "interpreter": {
    "hash": "25a52b408605e18321d502117c29de6394824942cdb1f7b8804f2a2e3ebaf13e"
   }
  }
 },
 "nbformat": 4,
 "nbformat_minor": 2
}
